{
  "nbformat": 4,
  "nbformat_minor": 0,
  "metadata": {
    "colab": {
      "provenance": [],
      "authorship_tag": "ABX9TyPvdFBcj4V6G5MfQ/of0kGF",
      "include_colab_link": true
    },
    "kernelspec": {
      "name": "python3",
      "display_name": "Python 3"
    },
    "language_info": {
      "name": "python"
    },
    "accelerator": "GPU",
    "gpuClass": "standard"
  },
  "cells": [
    {
      "cell_type": "markdown",
      "metadata": {
        "id": "view-in-github",
        "colab_type": "text"
      },
      "source": [
        "<a href=\"https://colab.research.google.com/github/CharlesLclrc/TensorGAN/blob/main/notebooks/test_function_gan_architecture_2.ipynb\" target=\"_parent\"><img src=\"https://colab.research.google.com/assets/colab-badge.svg\" alt=\"Open In Colab\"/></a>"
      ]
    },
    {
      "cell_type": "code",
      "execution_count": null,
      "metadata": {
        "id": "V1yY9bWShHLL",
        "colab": {
          "base_uri": "https://localhost:8080/"
        },
        "outputId": "20f89620-c0c4-457a-9339-79b4a454dc59"
      },
      "outputs": [
        {
          "output_type": "stream",
          "name": "stdout",
          "text": [
            "Drive already mounted at /content/drive; to attempt to forcibly remount, call drive.mount(\"/content/drive\", force_remount=True).\n"
          ]
        }
      ],
      "source": [
        "#IMPORTS\n",
        "#basics\n",
        "from tensorflow.keras.layers import Input, Activation\n",
        "#conv\n",
        "from tensorflow.keras.layers import Conv2D, Conv2DTranspose, Concatenate, MaxPooling2D, UpSampling2D  \n",
        "#others\n",
        "from tensorflow.keras.layers import BatchNormalization, LeakyReLU, Dropout\n",
        "from tensorflow.keras.layers import Layer, Dense\n",
        "from tensorflow.keras.models import Model\n",
        "from tensorflow.keras.optimizers import Adam\n",
        "from tensorflow.keras.initializers import RandomNormal\n",
        "from tensorflow.keras.losses import Loss, BinaryCrossentropy\n",
        "from tensorflow import reduce_mean, ones_like,zeros_like\n",
        "from tensorflow.math import square, abs\n",
        "import numpy as np\n",
        "from tensorflow.keras.utils import image_dataset_from_directory\n",
        "import matplotlib.pyplot as plt\n",
        "import os\n",
        "os.environ['TF_CPP_MIN_LOG_LEVEL'] = '2' \n",
        "from google.colab import drive\n",
        "drive.mount('/content/drive')\n"
      ]
    },
    {
      "cell_type": "code",
      "source": [],
      "metadata": {
        "id": "qE4d8skaolnj"
      },
      "execution_count": null,
      "outputs": []
    },
    {
      "cell_type": "code",
      "source": [
        "photos = image_dataset_from_directory(directory='/content/drive/MyDrive/photo/photo3', labels = None, batch_size=477,shuffle=None)\n",
        "sketchs = image_dataset_from_directory(directory='/content/drive/MyDrive/sketch/sketch3', labels = None, batch_size=477,shuffle=None)"
      ],
      "metadata": {
        "id": "rNvLUmrbhM-3",
        "colab": {
          "base_uri": "https://localhost:8080/"
        },
        "outputId": "d139a88b-c023-4163-ac78-8942b5bbad9c"
      },
      "execution_count": null,
      "outputs": [
        {
          "output_type": "stream",
          "name": "stdout",
          "text": [
            "Found 478 files belonging to 1 classes.\n",
            "Found 477 files belonging to 1 classes.\n"
          ]
        }
      ]
    },
    {
      "cell_type": "code",
      "source": [
        "X = [next(iter(photos)).numpy(),next(iter(sketchs)).numpy()]\n",
        "y = next(iter(sketchs)).numpy()"
      ],
      "metadata": {
        "id": "V_PBgBQBmRQq"
      },
      "execution_count": null,
      "outputs": []
    },
    {
      "cell_type": "code",
      "source": [
        "class Conv_bloc(Layer):\n",
        "\n",
        "    \"\"\"\n",
        "    Conv_bloc for the encoder part of the generator. \n",
        "    \n",
        "    Main parameters consists of:\n",
        "    \n",
        "    - filters: Integer, the dimensionality of the output space (i.e. the number \n",
        "    of output filters in the convolution).\n",
        "    - kernel_size: An integer or tuple/list of 2 integers, specifying the height \n",
        "    and width of the 2D convolution window. Can be a single integer to specify \n",
        "    the same value for all spatial dimensions.\n",
        "    - knl_init_stddev: RandomNormal argument stddev for kernel initialization \n",
        "    a python scalar or a scalar tensor. Standard deviation of the random values to generate.\n",
        "    - batch_norm: boolean to apply BatchNormalization or not in the layer\n",
        "    - max_pool: boolean to apply MaxPooling2D or not in the layer\n",
        "    - max_pool_size: MaxPooling2D pool_size argument. Integer or tuple of 2 integers, \n",
        "    window size over which to take the maximum. \n",
        "    (2, 2) will take the max value over a 2x2 pooling window. \n",
        "    If only one integer is specified, the same window length will be used for both dimensions.\n",
        "    - lk_relu_alpha: LeakyRelu is the activation layer for the Conv_bloc. \n",
        "    Alpha is a float >= 0. Negative slope coefficient. Default to 0.3.\n",
        "    - drop_out_rate: default as None, so no Dropout is activated. \n",
        "    Else, float between 0 and 1. Fraction of the input units to drop.\n",
        "    \"\"\"\n",
        "\n",
        "    def __init__(self, \n",
        "                 filters,\n",
        "                 kernel_size = 3,\n",
        "                 knl_init_stddev=0.2,\n",
        "                 batch_norm = True,\n",
        "                 max_pool=True,\n",
        "                 max_pool_size= 2,\n",
        "                 lk_relu_alpha=0.2,\n",
        "                 drop_out_rate=None\n",
        "                 ):\n",
        "\n",
        "        super(Conv_bloc,self).__init__()\n",
        "        self.filters = filters\n",
        "        self.kernel_size = kernel_size\n",
        "        self.batch_norm = batch_norm\n",
        "        self.max_pool=max_pool\n",
        "        self.max_pool_size = max_pool_size\n",
        "        self.knl_init_stddev=knl_init_stddev\n",
        "        self.lk_relu_alpha=lk_relu_alpha\n",
        "        self.drop_out_rate = drop_out_rate\n",
        "\n",
        "        self.conv = Conv2D(filters = self.filters,\n",
        "                           kernel_size = self.kernel_size,\n",
        "                           padding = 'same',\n",
        "                           kernel_initializer = RandomNormal(stddev= self.knl_init_stddev))\n",
        "        self.batch_normalization = BatchNormalization()\n",
        "        self.leakyrelu = LeakyReLU(alpha=self.lk_relu_alpha)\n",
        "        self.max_pool2D = MaxPooling2D(pool_size=self.max_pool_size)\n",
        "        self.dropout = Dropout(self.drop_out_rate)\n",
        "        \n",
        "    def call(self, input):\n",
        "\n",
        "        # conv layer\n",
        "        c = self.conv(input)\n",
        "        \n",
        "        # batch_norm\n",
        "        if self.batch_norm: c = self.batch_normalization(c,training=False)\n",
        "        c = self.leakyrelu(c)\n",
        "        if self.drop_out_rate: c = self.dropout(c)\n",
        "        conv = c \n",
        "        if self.max_pool: conv = self.max_pool2D(c)\n",
        "        return conv, c\n",
        "\n",
        "class Decod_bloc(Layer):\n",
        "    def __init__(self, \n",
        "                 filters,\n",
        "                 kernel_size = 3,\n",
        "                 batch_norm = True,\n",
        "                 max_pool=False,\n",
        "                 max_pool_size= 2,\n",
        "                 knl_init_stddev=0.2,\n",
        "                 drop_out_rate=None):\n",
        "        \n",
        "        super(Decod_bloc,self).__init__()\n",
        "        self.filters = filters\n",
        "        self.kernel_size = kernel_size\n",
        "        self.batch_norm = batch_norm\n",
        "        self.max_pool=max_pool\n",
        "        self.max_pool_size = max_pool_size\n",
        "        self.knl_init_stddev=knl_init_stddev\n",
        "        self.drop_out_rate = drop_out_rate\n",
        "        \n",
        "        self.upsampling2D = UpSampling2D(size=self.max_pool_size)\n",
        "        \n",
        "        self.conv2DT = Conv2DTranspose(filters= self.filters, \n",
        "                        kernel_size= self.kernel_size, \n",
        "                        padding= 'same', \n",
        "                        kernel_initializer= RandomNormal(stddev= self.knl_init_stddev))\n",
        "        \n",
        "        self.batch_normalization = BatchNormalization()\n",
        "        self.dropout = Dropout(self.drop_out_rate)\n",
        "        self.concat = Concatenate(axis=-1)\n",
        "        self.conv1 = Conv2D(filters = self.filters,\n",
        "                  kernel_size = self.kernel_size,\n",
        "                  padding = 'same',\n",
        "                  kernel_initializer = RandomNormal(stddev= self.knl_init_stddev))\n",
        "        self.conv2 = Conv2D(filters = self.filters,\n",
        "                  kernel_size = self.kernel_size,\n",
        "                  padding = 'same',\n",
        "                  kernel_initializer = RandomNormal(stddev= self.knl_init_stddev))\n",
        "\n",
        "        \n",
        "    def call(self,input,skip_in):\n",
        "        if self.max_pool: g = self.upsampling2D(input)\n",
        "        g = self.conv2DT(input if not self.max_pool else g)\n",
        "        if self.batch_norm: g = self.batch_normalization(g, training=False)\n",
        "        g = self.concat([g, skip_in])\n",
        "        g = self.conv1(g)\n",
        "        g = Activation('relu')(g)\n",
        "        g = self.conv2(g)\n",
        "        g = Activation('relu')(g)\n",
        "        if self.drop_out_rate: g = self.dropout(g, training=True)\n",
        "        return g"
      ],
      "metadata": {
        "id": "5qXqWbODhLfW"
      },
      "execution_count": null,
      "outputs": []
    },
    {
      "cell_type": "code",
      "source": [
        "class Generator(Model):\n",
        "    def __init__(self, \n",
        "                 kernel_size = 3,\n",
        "                 batch_norm = True,\n",
        "                 max_pool=True,\n",
        "                 max_pool_size= 2,\n",
        "                 knl_init_stddev=0.2,\n",
        "                 lk_relu_alpha=0.2,\n",
        "                 drop_out_rate=None,\n",
        "                 **kwargs\n",
        "                 ):\n",
        "    \n",
        "        super(Generator,self).__init__()\n",
        "\n",
        "        #Conv_bloc & decoder kwargs\n",
        "        self.kernel_size = kernel_size\n",
        "        self.batch_norm = batch_norm\n",
        "        self.max_pool=max_pool\n",
        "        self.max_pool_size= max_pool_size\n",
        "        self.knl_init_stddev=knl_init_stddev\n",
        "        self.lk_relu_alpha=lk_relu_alpha\n",
        "        self.drop_out_rate=drop_out_rate\n",
        "        \n",
        "        kwargs = dict(kernel_size = self.kernel_size, \n",
        "                        batch_norm = self.batch_norm,\n",
        "                        max_pool = self.max_pool,\n",
        "                        max_pool_size = self.max_pool_size,\n",
        "                        knl_init_stddev = self.knl_init_stddev,\n",
        "                        lk_relu_alpha = self.lk_relu_alpha,\n",
        "                      drop_out_rate=self.drop_out_rate\n",
        "                      )\n",
        "\n",
        "        #Encoder\n",
        "\n",
        "        self.e1 = Conv_bloc(32,**kwargs)\n",
        "        self.e2 = Conv_bloc(64,**kwargs)\n",
        "        self.e3 = Conv_bloc(128,**kwargs)\n",
        "        self.e4 = Conv_bloc(256,**kwargs)\n",
        "        self.e5 = Conv_bloc(512,**kwargs)\n",
        "        self.bottleneck = Conv2D(512, \n",
        "                                 (4,4),  \n",
        "                                 padding='same', \n",
        "                                 kernel_initializer=RandomNormal(stddev= self.knl_init_stddev))\n",
        "        \n",
        "        kwargs.pop('lk_relu_alpha')\n",
        "        #Decoder\n",
        "        self.d1 = Decod_bloc(512,**kwargs)\n",
        "        self.d2 = Decod_bloc(256,**kwargs)\n",
        "        self.d3 = Decod_bloc(128,**kwargs)\n",
        "        self.d4 = Decod_bloc(64,**kwargs)\n",
        "        self.d5 = Decod_bloc(32,**kwargs)\n",
        "        self.g = Conv2DTranspose(3,\n",
        "                        3,\n",
        "                        padding='same', \n",
        "                        kernel_initializer=RandomNormal(stddev = self.knl_init_stddev))\n",
        "        \n",
        "    def call(self,input):\n",
        "\n",
        "        conv, e1 = self.e1(input)\n",
        "        conv, e2 = self.e2(conv)\n",
        "        conv, e3 = self.e3(conv)\n",
        "        conv, e4 = self.e4(conv)\n",
        "        conv, e5 = self.e5(conv)\n",
        "\n",
        "        b = self.bottleneck(conv)\n",
        "        b = Activation('relu')(b)\n",
        "\n",
        "        conv = self.d1(b, e5) \n",
        "        conv = self.d2(conv, e4) \n",
        "        conv = self.d3(conv, e3) \n",
        "        conv = self.d4(conv, e2) \n",
        "        conv = self.d5(conv, e1) \n",
        "\n",
        "        g = self.g(conv)\n",
        "        out_image = Activation('sigmoid',name='generator')(g)\n",
        "\n",
        "        return out_image"
      ],
      "metadata": {
        "id": "NlXFxrhShQGX"
      },
      "execution_count": null,
      "outputs": []
    },
    {
      "cell_type": "code",
      "source": [
        "  class Discriminator(Model):\n",
        "    \n",
        "    def __init__(self, \n",
        "                 kernel_size = (4,4),\n",
        "                 batch_norm = True,\n",
        "                 max_pool=True,\n",
        "                 max_pool_size= 1,\n",
        "                 knl_init_stddev=0.2,\n",
        "                 lk_relu_alpha=0.2,\n",
        "                 drop_out_rate=None,\n",
        "                 **kwargs\n",
        "                 ):\n",
        "        super(Discriminator, self).__init__()\n",
        "        \n",
        "        #Conv_bloc kwargs\n",
        "        self.kernel_size = kernel_size\n",
        "        self.batch_norm = batch_norm\n",
        "        self.max_pool = max_pool\n",
        "        self.max_pool_size = max_pool_size\n",
        "        self.knl_init_stddev = knl_init_stddev\n",
        "        self.lk_relu_alpha = lk_relu_alpha\n",
        "        self.drop_out_rate = drop_out_rate\n",
        "        \n",
        "        kwargs = dict(kernel_size = self.kernel_size, \n",
        "                      batch_norm = self.batch_norm,\n",
        "                      max_pool = self.max_pool,\n",
        "                      max_pool_size = self.max_pool_size,\n",
        "                      knl_init_stddev = self.knl_init_stddev,\n",
        "                      lk_relu_alpha = self.lk_relu_alpha,\n",
        "                      drop_out_rate = drop_out_rate)\n",
        "        \n",
        "        # discriminator layers\n",
        "        self.d1 = Conv_bloc(64,**kwargs)\n",
        "        self.d2 = Conv_bloc(128,**kwargs)\n",
        "        self.d3 = Conv_bloc(256,**kwargs)\n",
        "        self.d4 = Conv_bloc(512,**kwargs)\n",
        "        kwargs.pop('max_pool',None)\n",
        "        self.d5 = Conv_bloc(512, max_pool=False ,**kwargs)\n",
        "        # self.patch_out = Dense(1) \n",
        "        self.patch_out = Conv2D(1, \n",
        "                                (4,4), \n",
        "                                padding='same', \n",
        "                                kernel_initializer=RandomNormal(stddev=self.knl_init_stddev))\n",
        "        self.concat = Concatenate(axis=0)\n",
        "        self.concat_res = Concatenate(axis=-1)\n",
        "        \n",
        "    def call(self,pred_image,target_image):\n",
        "        d1 = self.d1(pred_image)\n",
        "        d2 = self.d2(d1)\n",
        "        d3 = self.d3(d2)\n",
        "        d4 = self.d4(d3)\n",
        "        d5 = self.d5(d4)\n",
        "        \n",
        "        patch_out = self.patch_out(d5)\n",
        "        discriminator_gen = Activation('sigmoid', name='discriminator')(patch_out)\n",
        "\n",
        "        d1 = self.d1(target_image)\n",
        "        d2 = self.d2(d1)\n",
        "        d3 = self.d3(d2)\n",
        "        d4 = self.d4(d3)\n",
        "        d5 = self.d5(d4)\n",
        "\n",
        "        patch_out = self.patch_out(d5)\n",
        "        discriminator_real = Activation('sigmoid', name='discriminator')(patch_out)\n",
        "\n",
        "        discriminators = self.concat_res([discriminator_gen, discriminator_real])\n",
        "\n",
        "        return discriminators"
      ],
      "metadata": {
        "id": "YJT4uerEhSir"
      },
      "execution_count": null,
      "outputs": []
    },
    {
      "cell_type": "code",
      "source": [
        "# input = Input(shape=(256,256,3))\n",
        "# d = Generator()(input)\n",
        "# output = Discriminator()(d,input)\n",
        "# Model(input,output).summary()"
      ],
      "metadata": {
        "id": "P3JvqeV6zyWM"
      },
      "execution_count": null,
      "outputs": []
    },
    {
      "cell_type": "code",
      "source": [
        "class Gan_loss(Loss):\n",
        "    def __init__(self,coef=1):\n",
        "        super().__init__()\n",
        "        self.coef = coef\n",
        "        \n",
        "    def call(self, y_true, y_pred):\n",
        "        mae_loss = reduce_mean(abs(y_pred - y_true), axis=-1)\n",
        "        #sigmoid_cross_entropy = BinaryCrossentropy(from_logits=True)\n",
        "        #sigmoid_cross_entropy = sigmoid_cross_entropy(ones_like(y_pred), y_pred)\n",
        "        return self.coef*mae_loss# + sigmoid_cross_entropy\n",
        "\n",
        "class Disc_loss(Loss):        \n",
        "    def call(self, y_true, y_pred):\n",
        "        y_gen = y_pred[:,:,0]\n",
        "        y_real = y_pred[:,:,1]\n",
        "        sigmoid_cross_entropy = BinaryCrossentropy(from_logits=True)\n",
        "        gen_loss = sigmoid_cross_entropy(zeros_like(y_gen),y_gen)\n",
        "        real_loss = sigmoid_cross_entropy(ones_like(y_real),y_real)\n",
        "        total_loss = gen_loss + real_loss\n",
        "        return total_loss"
      ],
      "metadata": {
        "id": "0lTSbnykhUCN"
      },
      "execution_count": null,
      "outputs": []
    },
    {
      "cell_type": "code",
      "source": [
        "def Pix2Pix(image_shape=(256,256,3)):\n",
        "    \n",
        "    discriminator1 = Discriminator()\n",
        "    discriminator2 = Discriminator()\n",
        "    generator = Generator()\n",
        "    \n",
        "    # for layer in discriminator1.layers:\n",
        "    #     if not isinstance(layer, BatchNormalization):\n",
        "    #         layer.trainable = False\n",
        "    \n",
        "    input_gen = Input(shape=image_shape)\n",
        "    input_disc = Input(shape=image_shape)\n",
        "    gen_out = generator(input_gen) \n",
        "    dis_out = discriminator1(gen_out,input_gen)\n",
        "    \n",
        "    model = Model(inputs=[input_gen, input_disc], outputs = [dis_out, gen_out])\n",
        "    \n",
        "    opt = Adam(learning_rate=0.0002, beta_1=0.75)\n",
        "    \n",
        "    model.compile(loss={dis_out.name.split('/')[0]:Disc_loss(), \n",
        "                     gen_out.name.split('/')[0]:Gan_loss(1e-5)}, \n",
        "               optimizer=opt, \n",
        "               loss_weights=[1,1])\n",
        "    \n",
        "    return model"
      ],
      "metadata": {
        "id": "WxqCtpwVhVd0"
      },
      "execution_count": null,
      "outputs": []
    },
    {
      "cell_type": "code",
      "source": [],
      "metadata": {
        "id": "c4DQqYtBaENx"
      },
      "execution_count": null,
      "outputs": []
    },
    {
      "cell_type": "code",
      "source": [],
      "metadata": {
        "id": "R_cpR3ytaEeY"
      },
      "execution_count": null,
      "outputs": []
    },
    {
      "cell_type": "code",
      "source": [
        "# model = Pix2Pix()\n",
        "# model.summary()"
      ],
      "metadata": {
        "id": "15I3sakthW0W"
      },
      "execution_count": null,
      "outputs": []
    },
    {
      "cell_type": "code",
      "source": [
        "from tensorflow.keras.optimizers import Adam"
      ],
      "metadata": {
        "id": "oRjoXqtQRMvg"
      },
      "execution_count": null,
      "outputs": []
    },
    {
      "cell_type": "code",
      "source": [
        "from tensorflow.python.ops.array_ops import batch_gather\n",
        "gen = Generator()\n",
        "gen.compile(loss ='mae',\n",
        "            optimizer = Adam(learning_rate=0.0002, beta_1=0.5,beta_2=0.5))\n",
        "gen.fit(X[0],y,epochs=30)"
      ],
      "metadata": {
        "id": "VXBahiH_nTk-",
        "colab": {
          "base_uri": "https://localhost:8080/"
        },
        "outputId": "b6188939-dcc0-4dba-caf0-f6e98d1bd2cd"
      },
      "execution_count": null,
      "outputs": [
        {
          "output_type": "stream",
          "name": "stdout",
          "text": [
            "Epoch 1/30\n",
            "15/15 [==============================] - 12s 647ms/step - loss: 209.0876\n",
            "Epoch 2/30\n",
            "15/15 [==============================] - 10s 650ms/step - loss: 208.9058\n",
            "Epoch 3/30\n",
            "15/15 [==============================] - 10s 656ms/step - loss: 208.9057\n",
            "Epoch 4/30\n",
            "15/15 [==============================] - 10s 657ms/step - loss: 208.9057\n",
            "Epoch 5/30\n",
            "15/15 [==============================] - 10s 661ms/step - loss: 208.9057\n",
            "Epoch 6/30\n",
            "15/15 [==============================] - 10s 664ms/step - loss: 208.9057\n",
            "Epoch 7/30\n",
            "15/15 [==============================] - 10s 667ms/step - loss: 208.9049\n",
            "Epoch 8/30\n",
            "15/15 [==============================] - 10s 670ms/step - loss: 208.9027\n",
            "Epoch 9/30\n",
            "15/15 [==============================] - 10s 675ms/step - loss: 208.9048\n",
            "Epoch 10/30\n",
            "15/15 [==============================] - 10s 675ms/step - loss: 208.9020\n",
            "Epoch 11/30\n",
            "15/15 [==============================] - 10s 679ms/step - loss: 208.8906\n",
            "Epoch 12/30\n",
            "15/15 [==============================] - 10s 682ms/step - loss: 208.8876\n",
            "Epoch 13/30\n",
            "15/15 [==============================] - 10s 683ms/step - loss: 208.8876\n",
            "Epoch 14/30\n",
            "15/15 [==============================] - 10s 687ms/step - loss: 208.8876\n",
            "Epoch 15/30\n",
            "15/15 [==============================] - 10s 687ms/step - loss: 208.8876\n",
            "Epoch 16/30\n",
            "15/15 [==============================] - 10s 686ms/step - loss: 208.8876\n",
            "Epoch 17/30\n",
            "15/15 [==============================] - 10s 687ms/step - loss: 208.8875\n",
            "Epoch 18/30\n",
            "15/15 [==============================] - 10s 689ms/step - loss: 208.8876\n",
            "Epoch 19/30\n",
            "15/15 [==============================] - 10s 687ms/step - loss: 208.8876\n",
            "Epoch 20/30\n",
            "15/15 [==============================] - 10s 687ms/step - loss: 208.8876\n",
            "Epoch 21/30\n",
            "15/15 [==============================] - 10s 690ms/step - loss: 208.8876\n",
            "Epoch 22/30\n",
            "15/15 [==============================] - 10s 691ms/step - loss: 208.8876\n",
            "Epoch 23/30\n",
            "15/15 [==============================] - 10s 691ms/step - loss: 208.8876\n",
            "Epoch 24/30\n",
            "15/15 [==============================] - 10s 696ms/step - loss: 208.8875\n",
            "Epoch 25/30\n",
            "15/15 [==============================] - 10s 693ms/step - loss: 208.8876\n",
            "Epoch 26/30\n",
            "15/15 [==============================] - 10s 694ms/step - loss: 208.8876\n",
            "Epoch 27/30\n",
            "15/15 [==============================] - 10s 694ms/step - loss: 208.8876\n",
            "Epoch 28/30\n",
            "15/15 [==============================] - 10s 696ms/step - loss: 208.8876\n",
            "Epoch 29/30\n",
            "15/15 [==============================] - 10s 694ms/step - loss: 208.8876\n",
            "Epoch 30/30\n",
            "15/15 [==============================] - 10s 694ms/step - loss: 208.8876\n"
          ]
        },
        {
          "output_type": "execute_result",
          "data": {
            "text/plain": [
              "<keras.callbacks.History at 0x7f821034a070>"
            ]
          },
          "metadata": {},
          "execution_count": 199
        }
      ]
    },
    {
      "cell_type": "code",
      "source": [
        "X[0][0].shape"
      ],
      "metadata": {
        "id": "4niJG-PvtdOy",
        "colab": {
          "base_uri": "https://localhost:8080/"
        },
        "outputId": "0c211116-eb9d-4da1-bdb0-b240861292d5"
      },
      "execution_count": null,
      "outputs": [
        {
          "output_type": "execute_result",
          "data": {
            "text/plain": [
              "(256, 256, 3)"
            ]
          },
          "metadata": {},
          "execution_count": 172
        }
      ]
    },
    {
      "cell_type": "code",
      "source": [
        "pred=gen.predict(X[0][1].reshape(1,256,256,3))\n",
        "pred"
      ],
      "metadata": {
        "colab": {
          "base_uri": "https://localhost:8080/"
        },
        "id": "gXE8_KSlOfpo",
        "outputId": "b7095cae-12d2-446c-96b8-de62bd1c88d3"
      },
      "execution_count": null,
      "outputs": [
        {
          "output_type": "stream",
          "name": "stdout",
          "text": [
            "1/1 [==============================] - 0s 427ms/step\n"
          ]
        },
        {
          "output_type": "execute_result",
          "data": {
            "text/plain": [
              "array([[[[0., 1., 1.],\n",
              "         [0., 1., 1.],\n",
              "         [0., 1., 1.],\n",
              "         ...,\n",
              "         [1., 1., 1.],\n",
              "         [1., 1., 1.],\n",
              "         [1., 1., 0.]],\n",
              "\n",
              "        [[0., 1., 1.],\n",
              "         [0., 1., 1.],\n",
              "         [0., 1., 1.],\n",
              "         ...,\n",
              "         [0., 1., 1.],\n",
              "         [0., 1., 1.],\n",
              "         [0., 1., 1.]],\n",
              "\n",
              "        [[1., 1., 1.],\n",
              "         [0., 1., 1.],\n",
              "         [0., 1., 1.],\n",
              "         ...,\n",
              "         [0., 1., 1.],\n",
              "         [1., 1., 1.],\n",
              "         [0., 1., 0.]],\n",
              "\n",
              "        ...,\n",
              "\n",
              "        [[0., 0., 0.],\n",
              "         [0., 1., 1.],\n",
              "         [0., 1., 1.],\n",
              "         ...,\n",
              "         [0., 1., 1.],\n",
              "         [0., 1., 1.],\n",
              "         [0., 0., 1.]],\n",
              "\n",
              "        [[0., 0., 1.],\n",
              "         [0., 0., 1.],\n",
              "         [0., 1., 1.],\n",
              "         ...,\n",
              "         [0., 1., 1.],\n",
              "         [0., 1., 1.],\n",
              "         [0., 0., 1.]],\n",
              "\n",
              "        [[1., 0., 1.],\n",
              "         [1., 0., 1.],\n",
              "         [0., 0., 1.],\n",
              "         ...,\n",
              "         [0., 1., 1.],\n",
              "         [0., 1., 1.],\n",
              "         [0., 0., 1.]]]], dtype=float32)"
            ]
          },
          "metadata": {},
          "execution_count": 173
        }
      ]
    },
    {
      "cell_type": "code",
      "source": [
        "y[0].shape"
      ],
      "metadata": {
        "colab": {
          "base_uri": "https://localhost:8080/"
        },
        "id": "m1ANMr0Yy0Ib",
        "outputId": "82d1a7d3-1173-429c-9cf0-80555331df57"
      },
      "execution_count": null,
      "outputs": [
        {
          "output_type": "execute_result",
          "data": {
            "text/plain": [
              "(256, 256, 3)"
            ]
          },
          "metadata": {},
          "execution_count": 175
        }
      ]
    },
    {
      "cell_type": "code",
      "source": [
        "fig, (ax1,ax2) = plt.subplots(1,2)\n",
        "ax1.imshow(pred[0])\n",
        "ax2.imshow(y[1]/255)"
      ],
      "metadata": {
        "id": "ouxZ5JZatKdY",
        "colab": {
          "base_uri": "https://localhost:8080/",
          "height": 222
        },
        "outputId": "33215724-fbcf-4330-f0fb-0a605ef29096"
      },
      "execution_count": null,
      "outputs": [
        {
          "output_type": "execute_result",
          "data": {
            "text/plain": [
              "<matplotlib.image.AxesImage at 0x7f815f738c10>"
            ]
          },
          "metadata": {},
          "execution_count": 174
        },
        {
          "output_type": "display_data",
          "data": {
            "text/plain": [
              "<Figure size 432x288 with 2 Axes>"
            ],
            "image/png": "[encoded data removed]"
          },
          "metadata": {
            "needs_background": "light"
          }
        }
      ]
    },
    {
      "cell_type": "code",
      "source": [
        "model.fit(X , y,epochs=1)"
      ],
      "metadata": {
        "id": "g1LABCOahZdF"
      },
      "execution_count": null,
      "outputs": []
    },
    {
      "cell_type": "code",
      "source": [
        "X[0][0].shape"
      ],
      "metadata": {
        "id": "kLThsCABhbU8"
      },
      "execution_count": null,
      "outputs": []
    },
    {
      "cell_type": "code",
      "source": [
        "toto = model.predict([X[0][0].reshape((1,256,256,3)),X[0][1].reshape((1,256,256,3))])"
      ],
      "metadata": {
        "id": "CDjd9E-ehcL4"
      },
      "execution_count": null,
      "outputs": []
    },
    {
      "cell_type": "code",
      "source": [],
      "metadata": {
        "id": "QbUO9evdhdR0"
      },
      "execution_count": null,
      "outputs": []
    },
    {
      "cell_type": "code",
      "source": [
        "toto[1].shape"
      ],
      "metadata": {
        "id": "DsBrffp9heUR"
      },
      "execution_count": null,
      "outputs": []
    },
    {
      "cell_type": "code",
      "source": [
        "plt.imshow(toto[1][0])"
      ],
      "metadata": {
        "id": "seOO2KNQhfiu"
      },
      "execution_count": null,
      "outputs": []
    },
    {
      "cell_type": "code",
      "source": [],
      "metadata": {
        "id": "POK9I_FWk_Fs"
      },
      "execution_count": null,
      "outputs": []
    }
  ]
}